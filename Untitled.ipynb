{
 "cells": [
  {
   "cell_type": "code",
   "execution_count": 1,
   "id": "256e620f",
   "metadata": {},
   "outputs": [
    {
     "name": "stdout",
     "output_type": "stream",
     "text": [
      "<class 'int'>\n",
      "<class 'float'>\n"
     ]
    },
    {
     "data": {
      "text/plain": [
       "complex"
      ]
     },
     "execution_count": 1,
     "metadata": {},
     "output_type": "execute_result"
    }
   ],
   "source": [
    "#program to demonstrate different types of data type:\n",
    "\n",
    "a=10\n",
    "b=15.5\n",
    "c=2.05j\n",
    "\n",
    "print(type(a))\n",
    "print((type(b)))\n",
    "type(c)"
   ]
  },
  {
   "cell_type": "code",
   "execution_count": 2,
   "id": "72d2bfe2",
   "metadata": {},
   "outputs": [
    {
     "name": "stdout",
     "output_type": "stream",
     "text": [
      "50\n",
      "40\n",
      "225\n",
      "9.0\n",
      "9\n",
      "0\n"
     ]
    }
   ],
   "source": [
    "#diiferent arithmetic operations\n",
    "\n",
    "a=45\n",
    "b=5\n",
    "\n",
    "print(a+b)\n",
    "print(a-b)\n",
    "print(a*b)\n",
    "print(a/b)\n",
    "print(a//b)\n",
    "print(a%b)"
   ]
  },
  {
   "cell_type": "code",
   "execution_count": 1,
   "id": "3c0fc55e",
   "metadata": {},
   "outputs": [
    {
     "name": "stdout",
     "output_type": "stream",
     "text": [
      "Enter first stringAmitVerma\n",
      "enter second stringDevanadKushwaha\n",
      "First string is :  AmitVerma\n",
      "Second string is :  DevanadKushwaha\n",
      "concatenation of two strings :  AmitVermaDevanadKushwaha\n",
      "Substring of given string :  mit\n"
     ]
    }
   ],
   "source": [
    "''' WAP to create, concatenate and print a string and accessing sub-string from a given string'''\n",
    "\n",
    "s1=input(\"Enter first string\")\n",
    "s2=input(\"enter second string\")\n",
    "\n",
    "print(\"First string is : \",s1)\n",
    "print(\"Second string is : \",s2)\n",
    "print(\"concatenation of two strings : \",s1+s2)\n",
    "print(\"Substring of given string : \",s1[1:4])"
   ]
  },
  {
   "cell_type": "code",
   "execution_count": null,
   "id": "f75621f6",
   "metadata": {},
   "outputs": [],
   "source": []
  },
  {
   "cell_type": "code",
   "execution_count": 5,
   "id": "c1ef5a7d",
   "metadata": {},
   "outputs": [
    {
     "name": "stdout",
     "output_type": "stream",
     "text": [
      "time.struct_time(tm_year=2023, tm_mon=10, tm_mday=8, tm_hour=21, tm_min=53, tm_sec=26, tm_wday=6, tm_yday=281, tm_isdst=0)\n"
     ]
    }
   ],
   "source": [
    "#To print current date and time\n",
    "import time\n",
    "ltime=time.localtime()\n",
    "print(ltime)"
   ]
  },
  {
   "cell_type": "code",
   "execution_count": null,
   "id": "c48bc0f4",
   "metadata": {},
   "outputs": [],
   "source": []
  },
  {
   "cell_type": "code",
   "execution_count": 6,
   "id": "5a37e978",
   "metadata": {},
   "outputs": [],
   "source": [
    "#Program to create, append and remove list in python\n",
    "\n",
    "my_list = [] #empty list\n",
    "\n",
    "my_list = [1,2,3] #list of integer\n",
    "\n",
    "my_list = [1, \"Hello\", 3.4] #list with mix data type\n",
    "\n",
    "my_list = [\"mouse\", [9,7,9],['a']] # nested list\n"
   ]
  },
  {
   "cell_type": "code",
   "execution_count": 8,
   "id": "af8cfb16",
   "metadata": {},
   "outputs": [
    {
     "name": "stdout",
     "output_type": "stream",
     "text": [
      "[1, 3, 5, 7]\n",
      "[1, 3, 5, 7, 9, 11, 24]\n"
     ]
    }
   ],
   "source": [
    "#Appending and extending list in python\n",
    "add = [1,3,5]\n",
    "add.append(7)\n",
    "print(add)\n",
    "\n",
    "add.extend([9,11,24])\n",
    "print(add)"
   ]
  },
  {
   "cell_type": "code",
   "execution_count": 12,
   "id": "51e99a47",
   "metadata": {},
   "outputs": [
    {
     "name": "stdout",
     "output_type": "stream",
     "text": [
      "['p', 'r', 'b', 'l', 'e', 'm']\n",
      "['p', 'e', 'm']\n"
     ]
    },
    {
     "ename": "NameError",
     "evalue": "name 'my_list' is not defined",
     "output_type": "error",
     "traceback": [
      "\u001b[1;31m---------------------------------------------------------------------------\u001b[0m",
      "\u001b[1;31mNameError\u001b[0m                                 Traceback (most recent call last)",
      "Cell \u001b[1;32mIn[12], line 13\u001b[0m\n\u001b[0;32m     10\u001b[0m \u001b[38;5;28mprint\u001b[39m(my_list)\n\u001b[0;32m     12\u001b[0m \u001b[38;5;28;01mdel\u001b[39;00m my_list\n\u001b[1;32m---> 13\u001b[0m \u001b[38;5;28mprint\u001b[39m(\u001b[43mmy_list\u001b[49m)\n",
      "\u001b[1;31mNameError\u001b[0m: name 'my_list' is not defined"
     ]
    }
   ],
   "source": [
    "#delete and remove list items\n",
    "\n",
    "my_list = ['p', 'r', 'o', 'b', 'l', 'e', 'm']\n",
    "\n",
    "#delete one item\n",
    "del my_list[2]\n",
    "print(my_list)\n",
    "\n",
    "del my_list[1:4] # delete multiple elements\n",
    "print(my_list)\n",
    "\n",
    "del my_list\n",
    "print(my_list)"
   ]
  },
  {
   "cell_type": "code",
   "execution_count": null,
   "id": "edb6581f",
   "metadata": {},
   "outputs": [],
   "source": []
  },
  {
   "cell_type": "code",
   "execution_count": 16,
   "id": "12b5c182",
   "metadata": {},
   "outputs": [
    {
     "name": "stdout",
     "output_type": "stream",
     "text": [
      "()\n",
      "(2, 4, 5, 6, 7)\n",
      "(1, 'Hello', 3.4)\n",
      "(1, 'hello', (1, 3, 4))\n"
     ]
    }
   ],
   "source": [
    "#Program to demonstrate working with tuples in python\n",
    "\n",
    "my_tuple = () # empty tuple\n",
    "print(my_tuple)\n",
    "\n",
    "my_tuple = (2,4,5,6,7) # tuple with integer\n",
    "print(my_tuple)\n",
    "\n",
    "my_tuple = (1, \"Hello\", 3.4) #tuple with mixed data type\n",
    "print(my_tuple)\n",
    "\n",
    "my_tuple = (1, \"hello\", (1,3,4)) #nested tuple\n",
    "print(my_tuple)"
   ]
  },
  {
   "cell_type": "code",
   "execution_count": 18,
   "id": "06f6c6b9",
   "metadata": {},
   "outputs": [
    {
     "name": "stdout",
     "output_type": "stream",
     "text": [
      "(3, 4.6, 'dog')\n",
      "3\n",
      "4.6\n",
      "dog\n"
     ]
    }
   ],
   "source": [
    "my_tuple = 3, 4.6, \"dog\"\n",
    "print(my_tuple)\n",
    "\n",
    "# tuple unpacking is also possible\n",
    "a, b, c = my_tuple\n",
    "\n",
    "print(a) # 3\n",
    "print(b) # 4.6\n",
    "print(c) #dog"
   ]
  },
  {
   "cell_type": "code",
   "execution_count": 20,
   "id": "072d3e9a",
   "metadata": {},
   "outputs": [
    {
     "name": "stdout",
     "output_type": "stream",
     "text": [
      "<class 'str'>\n",
      "<class 'tuple'>\n",
      "<class 'tuple'>\n"
     ]
    }
   ],
   "source": [
    "my_tuple = (\"hello\")\n",
    "print(type(my_tuple)) #<class 'str'>\n",
    "\n",
    "my_tuple =(\"hello\",)\n",
    "print(type(my_tuple)) #<class 'tuple'>\n",
    "\n",
    "my_tuple = \"hello\",\n",
    "print(type(my_tuple)) #<class 'tuple'>"
   ]
  },
  {
   "cell_type": "code",
   "execution_count": null,
   "id": "2f08d6bd",
   "metadata": {},
   "outputs": [],
   "source": []
  },
  {
   "cell_type": "code",
   "execution_count": 23,
   "id": "8887e46f",
   "metadata": {},
   "outputs": [
    {
     "name": "stdout",
     "output_type": "stream",
     "text": [
      "{}\n",
      "{1: 'apple', 2: 'ball'}\n",
      "{'name': 'Amit', 1: [1, 2, 3]}\n"
     ]
    }
   ],
   "source": [
    "#Program to demonstrate working with dictionaries in python\n",
    "\n",
    "my_dict = {} #empty dictionary\n",
    "print(my_dict)\n",
    "\n",
    "my_dict = {1: 'apple', 2: 'ball'} #dictionary with integer key\n",
    "print(my_dict)\n",
    "\n",
    "my_dict = {'name': 'Amit', 1: [1,2,3]} #dictionary with mixed key\n",
    "print(my_dict)\n",
    "\n",
    "my_dict = {1: 'apple', 2: 'ball'} #using dict\n",
    "\n",
    "my_dict = dict([(1,'apple'), (2,'ball')]) #from sequence each item as pair\n"
   ]
  },
  {
   "cell_type": "code",
   "execution_count": 33,
   "id": "3e70ec2a",
   "metadata": {},
   "outputs": [
    {
     "name": "stdout",
     "output_type": "stream",
     "text": [
      "Jack\n",
      "23\n",
      "dict_keys(['name', 'age'])\n",
      "dict_values(['Jack', 23])\n"
     ]
    }
   ],
   "source": [
    "#Accessing element of a dictionary\n",
    "\n",
    "my_dict = {'name': 'Jack', 'age': 23} #get vs [] for retrieving elements\n",
    "\n",
    "print(my_dict['name']) #output Jack\n",
    "\n",
    "print(my_dict.get('age')) #output 23\n",
    "\n",
    "print(my_dict.keys())\n",
    "\n",
    "print(my_dict.values())"
   ]
  },
  {
   "cell_type": "code",
   "execution_count": null,
   "id": "76fbc956",
   "metadata": {},
   "outputs": [],
   "source": []
  },
  {
   "cell_type": "code",
   "execution_count": 34,
   "id": "a72b66af",
   "metadata": {},
   "outputs": [
    {
     "name": "stdout",
     "output_type": "stream",
     "text": [
      "num2 is greater\n"
     ]
    }
   ],
   "source": [
    "#find larget of three numbers\n",
    "\n",
    "num1 = 23\n",
    "num2 = 234\n",
    "num3 = 34\n",
    "\n",
    "if (num1 >= num2) and (num2 >= num3):\n",
    "    print(\"num1 is greater\")\n",
    "elif(num2>num3):\n",
    "    print(\"num2 is greater\")\n",
    "else:\n",
    "    print(\"num3 is greater\")\n",
    "    "
   ]
  },
  {
   "cell_type": "code",
   "execution_count": null,
   "id": "db52351c",
   "metadata": {},
   "outputs": [],
   "source": []
  },
  {
   "cell_type": "code",
   "execution_count": 4,
   "id": "1edb33a1",
   "metadata": {},
   "outputs": [
    {
     "name": "stdout",
     "output_type": "stream",
     "text": [
      "15\n",
      "56\n",
      "12\n"
     ]
    }
   ],
   "source": [
    "num1 = int(input())\n",
    "operation = input()\n",
    "num2 = int(input())\n",
    "\n",
    "# operation = input()\n",
    "\n",
    "match operation:\n",
    "    case '+' :\n",
    "        print(num1+num2)\n",
    "    case '-' :\n",
    "        print(num1-num2)\n",
    "    case '*' :\n",
    "        print(num1*num2)\n",
    "    case '//' :\n",
    "        print(num1 // num2)\n",
    "    case '%' :\n",
    "        print(num1%num2)\n",
    "    case '_' :\n",
    "        print(\"default value\")"
   ]
  },
  {
   "cell_type": "code",
   "execution_count": null,
   "id": "cd125b6c",
   "metadata": {},
   "outputs": [],
   "source": []
  },
  {
   "cell_type": "code",
   "execution_count": 8,
   "id": "584672af",
   "metadata": {},
   "outputs": [
    {
     "name": "stdout",
     "output_type": "stream",
     "text": [
      "Enter temperature : 45\n",
      "Enter unit('C' for Celsius or 'F' for Fahrenheit): F\n",
      "Temperature in Celsius = 7.222222222222222\n"
     ]
    }
   ],
   "source": [
    "# Program to convert temperature to celsius, Fahrenheit\n",
    "\n",
    "temp = float(input(\"Enter temperature : \"))\n",
    "unit = input(\"Enter unit('C' for Celsius or 'F' for Fahrenheit): \")\n",
    "\n",
    "if unit == 'C' or unit == 'c' :\n",
    "    newTemp = 9/5 * temp + 32\n",
    "    print(\"Temperature in Fahrenheiet =\", newTemp)\n",
    "elif unit == 'F' or unit == 'f' :\n",
    "    newTemp = 5/9 * (temp-32)\n",
    "    print(\"Temperature in Celsius =\", newTemp)\n",
    "else :\n",
    "    print(\"Unknow unit\", unit)"
   ]
  },
  {
   "cell_type": "code",
   "execution_count": null,
   "id": "a439a1bd",
   "metadata": {},
   "outputs": [],
   "source": []
  },
  {
   "cell_type": "code",
   "execution_count": 9,
   "id": "554e7689",
   "metadata": {},
   "outputs": [
    {
     "name": "stdout",
     "output_type": "stream",
     "text": [
      "\n",
      "* \n",
      "* * \n",
      "* * * \n",
      "* * * * \n",
      "* * * * * \n",
      "* * * * \n",
      "* * * \n",
      "* * \n",
      "* \n"
     ]
    }
   ],
   "source": [
    "n=5;\n",
    "for i in range(n):\n",
    "    for j in range(i):\n",
    "        print('* ', end =\"\")\n",
    "    print('')\n",
    "    \n",
    "    \n",
    "for i in range(n,0,-1):\n",
    "    for j in range(i):\n",
    "        print('* ', end=\"\")\n",
    "    print('')"
   ]
  },
  {
   "cell_type": "code",
   "execution_count": null,
   "id": "95ed7f81",
   "metadata": {},
   "outputs": [],
   "source": []
  },
  {
   "cell_type": "code",
   "execution_count": 1,
   "id": "ae680771",
   "metadata": {},
   "outputs": [
    {
     "name": "stdout",
     "output_type": "stream",
     "text": [
      "Enter lower range: 5\n",
      "Enter upper range: 15\n",
      "5\n",
      "5\n",
      "5\n",
      "7\n",
      "7\n",
      "7\n",
      "7\n",
      "7\n",
      "9\n",
      "11\n",
      "11\n",
      "11\n",
      "11\n",
      "11\n",
      "11\n",
      "11\n",
      "11\n",
      "11\n",
      "13\n",
      "13\n",
      "13\n",
      "13\n",
      "13\n",
      "13\n",
      "13\n",
      "13\n",
      "13\n",
      "13\n",
      "13\n",
      "15\n"
     ]
    }
   ],
   "source": [
    "#python script that print prime number less than 100\n",
    "\n",
    "lower = int(input(\"Enter lower range: \"))\n",
    "upper = int(input(\"Enter upper range: \"))\n",
    "\n",
    "for num in range(lower,upper+1):\n",
    "    if num > 1:\n",
    "        for i in range(2,num):\n",
    "            if(num % i) == 0:\n",
    "                break\n",
    "            else:\n",
    "                print(num)"
   ]
  },
  {
   "cell_type": "code",
   "execution_count": null,
   "id": "65449642",
   "metadata": {},
   "outputs": [],
   "source": []
  },
  {
   "cell_type": "code",
   "execution_count": 2,
   "id": "43c452fc",
   "metadata": {},
   "outputs": [
    {
     "name": "stdout",
     "output_type": "stream",
     "text": [
      "Enter number :5\n",
      "The factorial of 5 is  120\n"
     ]
    }
   ],
   "source": [
    "#Find factorial uisng recursion\n",
    "\n",
    "def recur_factorial(n):\n",
    "    if(n==1):\n",
    "        return n\n",
    "    else:\n",
    "        return n*recur_factorial(n-1)\n",
    "    \n",
    "num = int(input(\"Enter number :\"))\n",
    "\n",
    "if num < 0:\n",
    "    print(\"Factorial does not exist for negative number\")\n",
    "elif num == 0:\n",
    "    print(\"The factorial of 0 is 1\")\n",
    "else:\n",
    "    print(\"The factorial of\",num,\"is \",recur_factorial(num))"
   ]
  },
  {
   "cell_type": "code",
   "execution_count": null,
   "id": "3d9df5fd",
   "metadata": {},
   "outputs": [],
   "source": []
  },
  {
   "cell_type": "code",
   "execution_count": 8,
   "id": "9ff81eb6",
   "metadata": {},
   "outputs": [
    {
     "name": "stdout",
     "output_type": "stream",
     "text": [
      "5\n",
      "The factorial of the number is  120\n"
     ]
    }
   ],
   "source": [
    "def find_factorial(num):\n",
    "    if(num == 1):\n",
    "        return num\n",
    "    else:\n",
    "        return num * recur_factorial(num-1)\n",
    "    \n",
    "number = int(input())\n",
    "\n",
    "if number < 0:\n",
    "    print(\"Factorial doesn't exist for negative number\")\n",
    "elif number == 0:\n",
    "    print(\"Factorial is 1\")\n",
    "else:\n",
    "    print(\"The factorial of the number is \",find_factorial(number))"
   ]
  },
  {
   "cell_type": "code",
   "execution_count": null,
   "id": "05cbd5bb",
   "metadata": {},
   "outputs": [],
   "source": []
  },
  {
   "cell_type": "code",
   "execution_count": 10,
   "id": "17342af2",
   "metadata": {},
   "outputs": [],
   "source": [
    "#Write a python program to define a module to find Fibonacci Numbers and import the module to another program\n",
    "\n",
    "def fib(n):\n",
    "    a, b = 0, 1\n",
    "    while b < n:\n",
    "        print(b, end=' ')\n",
    "        a, b = b, a+b\n",
    "    print()\n",
    "\n",
    "def fib2(n):\n",
    "    result = []\n",
    "    a, b = 0, 1\n",
    "    while b < n:\n",
    "        result.append(b)\n",
    "        a, b = b, a+b\n",
    "    return result"
   ]
  },
  {
   "cell_type": "code",
   "execution_count": 11,
   "id": "99e64626",
   "metadata": {},
   "outputs": [
    {
     "ename": "ModuleNotFoundError",
     "evalue": "No module named 'fibonacci'",
     "output_type": "error",
     "traceback": [
      "\u001b[1;31m---------------------------------------------------------------------------\u001b[0m",
      "\u001b[1;31mModuleNotFoundError\u001b[0m                       Traceback (most recent call last)",
      "Cell \u001b[1;32mIn[11], line 1\u001b[0m\n\u001b[1;32m----> 1\u001b[0m \u001b[38;5;28;01mimport\u001b[39;00m \u001b[38;5;21;01mfibonacci\u001b[39;00m\n\u001b[0;32m      2\u001b[0m \u001b[38;5;28mprint\u001b[39m(fibonacci\u001b[38;5;241m.\u001b[39mfib(\u001b[38;5;241m3\u001b[39m))\n",
      "\u001b[1;31mModuleNotFoundError\u001b[0m: No module named 'fibonacci'"
     ]
    }
   ],
   "source": [
    "import fibonacci\n",
    "print(fibonacci.fib(3))"
   ]
  },
  {
   "cell_type": "code",
   "execution_count": null,
   "id": "c6a5aabd",
   "metadata": {},
   "outputs": [],
   "source": []
  },
  {
   "cell_type": "code",
   "execution_count": 2,
   "id": "e4b898be",
   "metadata": {},
   "outputs": [
    {
     "name": "stdout",
     "output_type": "stream",
     "text": [
      "170 0\n"
     ]
    }
   ],
   "source": [
    "def odd_even(lst):\n",
    "    even_sum = 0\n",
    "    odd_sum = 0\n",
    "    for i in lst:\n",
    "        if i%2 == 0:\n",
    "            even_sum += i\n",
    "        else:\n",
    "            odd_sum += 0\n",
    "    return even_sum, odd_sum\n",
    "\n",
    "sum1,sum2 = odd_even([1,2,34,45,56,78,9,123,125])\n",
    "print(sum1,sum2)\n",
    "        "
   ]
  },
  {
   "cell_type": "code",
   "execution_count": 6,
   "id": "dca80bac",
   "metadata": {},
   "outputs": [
    {
     "name": "stdout",
     "output_type": "stream",
     "text": [
      "4\n",
      "Car is used for driving\n"
     ]
    }
   ],
   "source": [
    "class Car:\n",
    "    def __init__(self,windows,tyres,seat):\n",
    "        self.windows = windows\n",
    "        self.tyres = tyres\n",
    "        self.seat = seat\n",
    "    \n",
    "    def driving(self):\n",
    "        print(\"Car is used for driving\")\n",
    "        \n",
    "class Audi(Car):\n",
    "    def __init__(self,windows,tyres,seat,engine):\n",
    "        super().__init__(windows,tyres,seat)\n",
    "        self.engine = engine\n",
    "        \n",
    "car1 = Audi(4,4,2,\"Petrol\")\n",
    "print(car1.windows)\n",
    "car1.driving()"
   ]
  },
  {
   "cell_type": "code",
   "execution_count": null,
   "id": "cf00faba",
   "metadata": {},
   "outputs": [],
   "source": []
  },
  {
   "cell_type": "code",
   "execution_count": 10,
   "id": "7d4d005e",
   "metadata": {},
   "outputs": [
    {
     "ename": "NameError",
     "evalue": "name 'Reverse' is not defined",
     "output_type": "error",
     "traceback": [
      "\u001b[1;31m---------------------------------------------------------------------------\u001b[0m",
      "\u001b[1;31mNameError\u001b[0m                                 Traceback (most recent call last)",
      "Cell \u001b[1;32mIn[10], line 3\u001b[0m\n\u001b[0;32m      1\u001b[0m \u001b[38;5;66;03m#Python class to reverse a string word by word\u001b[39;00m\n\u001b[1;32m----> 3\u001b[0m \u001b[38;5;28;43;01mclass\u001b[39;49;00m\u001b[43m \u001b[49m\u001b[38;5;21;43;01mReverse\u001b[39;49;00m\u001b[43m:\u001b[49m\n\u001b[0;32m      4\u001b[0m \u001b[43m    \u001b[49m\u001b[38;5;28;43;01mdef\u001b[39;49;00m\u001b[43m \u001b[49m\u001b[38;5;21;43mreverse_word\u001b[39;49m\u001b[43m(\u001b[49m\u001b[38;5;28;43mself\u001b[39;49m\u001b[43m,\u001b[49m\u001b[38;5;28;43mstr\u001b[39;49m\u001b[43m)\u001b[49m\u001b[43m:\u001b[49m\n\u001b[0;32m      5\u001b[0m \u001b[43m        \u001b[49m\u001b[38;5;28;43;01mreturn\u001b[39;49;00m\u001b[43m \u001b[49m\u001b[38;5;124;43m'\u001b[39;49m\u001b[38;5;124;43m \u001b[39;49m\u001b[38;5;124;43m'\u001b[39;49m\u001b[38;5;241;43m.\u001b[39;49m\u001b[43mjoin\u001b[49m\u001b[43m(\u001b[49m\u001b[38;5;28;43mreversed\u001b[39;49m\u001b[43m(\u001b[49m\u001b[38;5;28;43mstr\u001b[39;49m\u001b[38;5;241;43m.\u001b[39;49m\u001b[43msplit\u001b[49m\u001b[43m(\u001b[49m\u001b[43m)\u001b[49m\u001b[43m)\u001b[49m\u001b[43m)\u001b[49m\n",
      "Cell \u001b[1;32mIn[10], line 6\u001b[0m, in \u001b[0;36mReverse\u001b[1;34m()\u001b[0m\n\u001b[0;32m      4\u001b[0m \u001b[38;5;28;01mdef\u001b[39;00m \u001b[38;5;21mreverse_word\u001b[39m(\u001b[38;5;28mself\u001b[39m,\u001b[38;5;28mstr\u001b[39m):\n\u001b[0;32m      5\u001b[0m     \u001b[38;5;28;01mreturn\u001b[39;00m \u001b[38;5;124m'\u001b[39m\u001b[38;5;124m \u001b[39m\u001b[38;5;124m'\u001b[39m\u001b[38;5;241m.\u001b[39mjoin(\u001b[38;5;28mreversed\u001b[39m(\u001b[38;5;28mstr\u001b[39m\u001b[38;5;241m.\u001b[39msplit()))\n\u001b[1;32m----> 6\u001b[0m \u001b[38;5;28mprint\u001b[39m(\u001b[43mReverse\u001b[49m()\u001b[38;5;241m.\u001b[39mreverse_word(\u001b[38;5;124m'\u001b[39m\u001b[38;5;124mWelcome to Python\u001b[39m\u001b[38;5;124m'\u001b[39m))\n",
      "\u001b[1;31mNameError\u001b[0m: name 'Reverse' is not defined"
     ]
    }
   ],
   "source": [
    "#Python class to reverse a string word by word\n",
    "\n",
    "class Reverse:\n",
    "    def reverse_word(self,str):\n",
    "        return ' '.join(reversed(str.split()))\n",
    "    print(Reverse().reverse_word('Welcome to Python'))"
   ]
  },
  {
   "cell_type": "code",
   "execution_count": null,
   "id": "1407d0de",
   "metadata": {},
   "outputs": [],
   "source": []
  },
  {
   "cell_type": "code",
   "execution_count": 11,
   "id": "0c5d9383",
   "metadata": {},
   "outputs": [
    {
     "name": "stdout",
     "output_type": "stream",
     "text": [
      "13  is prime number\n"
     ]
    }
   ],
   "source": [
    "#Program to check the given number is prime or not \n",
    "\n",
    "num = 13\n",
    " #if the number is greater than 1\n",
    "if num > 1:\n",
    "     \n",
    "        # Iterate from 2 to n / 2\n",
    "        for i in range(2,int(num/2)+1):\n",
    "            \n",
    "            #If num is divisible by any number between 2 and n/2, it is not prime\n",
    "            if(num % i) == 0:\n",
    "                print(num, \"is not a prime number\")\n",
    "                break\n",
    "        else:\n",
    "            print(num,\" is prime number\")\n",
    "else:\n",
    "    print(num, \"is not prime number\")\n",
    "        "
   ]
  },
  {
   "cell_type": "code",
   "execution_count": null,
   "id": "41908bab",
   "metadata": {},
   "outputs": [],
   "source": []
  },
  {
   "cell_type": "code",
   "execution_count": 13,
   "id": "29834d0f",
   "metadata": {},
   "outputs": [
    {
     "data": {
      "text/plain": [
       "153.86"
      ]
     },
     "execution_count": 13,
     "metadata": {},
     "output_type": "execute_result"
    }
   ],
   "source": [
    "#Find area of circle\n",
    "\n",
    "def find_area(r):\n",
    "    PI = 3.14\n",
    "    return PI * (r*r)\n",
    "\n",
    "# print('Area is % ', find_area(5))\n",
    "find_area(7)"
   ]
  },
  {
   "cell_type": "code",
   "execution_count": 1,
   "id": "a943014c",
   "metadata": {},
   "outputs": [
    {
     "name": "stdout",
     "output_type": "stream",
     "text": [
      "8\n"
     ]
    }
   ],
   "source": [
    "#Python class implement pow(x,n)\n",
    "\n",
    "def power(x, y):\n",
    "    \n",
    "    if (y == 0 ):\n",
    "        return 1\n",
    "    elif (int(y % 2) == 0):\n",
    "        return (power(x, int(y/2)) * power(x, int(y/2)))\n",
    "    else:\n",
    "        return (x * power(x, int(y/2)) * power(x, int(y/2)))\n",
    "    \n",
    "x = 2\n",
    "y = 3\n",
    "print(power(x,y))"
   ]
  },
  {
   "cell_type": "code",
   "execution_count": null,
   "id": "3cc2fc2f",
   "metadata": {},
   "outputs": [],
   "source": []
  },
  {
   "cell_type": "code",
   "execution_count": 4,
   "id": "3cb1e0ba",
   "metadata": {},
   "outputs": [
    {
     "name": "stdout",
     "output_type": "stream",
     "text": [
      "225\n"
     ]
    }
   ],
   "source": [
    "#WAP to cube of first n natural number\n",
    "\n",
    "def sumOfSeries(n):\n",
    "    sum = 0\n",
    "    i = 1\n",
    "    for i in range(i, n+1):\n",
    "        \n",
    "        sum += i*i*i\n",
    "        \n",
    "    return sum\n",
    "\n",
    "n = 5\n",
    "print(sumOfSeries(n))"
   ]
  },
  {
   "cell_type": "code",
   "execution_count": null,
   "id": "012aca77",
   "metadata": {},
   "outputs": [],
   "source": []
  },
  {
   "cell_type": "code",
   "execution_count": 5,
   "id": "efb9b685",
   "metadata": {},
   "outputs": [
    {
     "name": "stdout",
     "output_type": "stream",
     "text": [
      "Factorial of 5 is 120\n"
     ]
    }
   ],
   "source": [
    "def fact(n):\n",
    "    if n == 0:\n",
    "        return 1\n",
    "    else:\n",
    "        return n * fact(n-1)\n",
    "    \n",
    "num = 5\n",
    "\n",
    "if num == 1:\n",
    "    print(\"Factorial is 1\")\n",
    "elif num < 1:\n",
    "    print(\"Not factorial for negative number\")\n",
    "else:\n",
    "    print(\"Factorial of 5 is\", fact(num))"
   ]
  },
  {
   "cell_type": "code",
   "execution_count": null,
   "id": "2267dc15",
   "metadata": {},
   "outputs": [],
   "source": []
  },
  {
   "cell_type": "code",
   "execution_count": 6,
   "id": "9ba23821",
   "metadata": {},
   "outputs": [
    {
     "name": "stdout",
     "output_type": "stream",
     "text": [
      "[11, 5, 17, 14]\n"
     ]
    }
   ],
   "source": [
    "# Remove multiple element from list\n",
    "\n",
    "list1 = [11, 5, 17, 18, 14, 58]\n",
    "\n",
    "for ele in list1:\n",
    "    if ele % 2 == 0:\n",
    "        list1.remove(ele)\n",
    "\n",
    "print(list1)"
   ]
  },
  {
   "cell_type": "code",
   "execution_count": null,
   "id": "57dc5777",
   "metadata": {},
   "outputs": [],
   "source": []
  },
  {
   "cell_type": "code",
   "execution_count": 12,
   "id": "4bc4e4e0",
   "metadata": {},
   "outputs": [
    {
     "name": "stdout",
     "output_type": "stream",
     "text": [
      "4\n",
      "4\n",
      "Petrol\n",
      "740\n",
      "Car is used for driving...\n"
     ]
    }
   ],
   "source": [
    "class Car:\n",
    "    def __init__(self, windows, tyres, engine):\n",
    "        self.windows = windows\n",
    "        self.tyres = tyres\n",
    "        self.engine = engine\n",
    "    \n",
    "    def define(self):\n",
    "        print(\"Car is used for driving...\")\n",
    "\n",
    "class Audi(Car):\n",
    "    def __init__(self, windows, tyres, engine, horsepower):\n",
    "        super().__init__(windows, tyres, engine)\n",
    "        self.horsepower = horsepower\n",
    "        \n",
    "    def driving(self):\n",
    "        print(\"It is self driving car\")\n",
    "        \n",
    "audiq7 = Audi(4,4,\"Petrol\",\"740\")\n",
    "\n",
    "print(audiq7.windows)\n",
    "print(audiq7.tyres)\n",
    "print(audiq7.engine)\n",
    "print(audiq7.horsepower)\n",
    "\n",
    "audiq7.define()"
   ]
  },
  {
   "cell_type": "code",
   "execution_count": null,
   "id": "15442f0e",
   "metadata": {},
   "outputs": [],
   "source": []
  },
  {
   "cell_type": "code",
   "execution_count": 15,
   "id": "3ff850d3",
   "metadata": {},
   "outputs": [
    {
     "data": {
      "text/plain": [
       "12"
      ]
     },
     "execution_count": 15,
     "metadata": {},
     "output_type": "execute_result"
    }
   ],
   "source": [
    "f = lambda x,y:x+y\n",
    "f(5,6)\n",
    "f(5,7)"
   ]
  },
  {
   "cell_type": "code",
   "execution_count": null,
   "id": "fe038601",
   "metadata": {},
   "outputs": [],
   "source": []
  },
  {
   "cell_type": "code",
   "execution_count": 17,
   "id": "602a2944",
   "metadata": {},
   "outputs": [
    {
     "name": "stdout",
     "output_type": "stream",
     "text": [
      "Even number\n"
     ]
    }
   ],
   "source": [
    "def odd_even(num):\n",
    "    if(num% 2) == 0:\n",
    "        print(\"Even number\")\n",
    "    else:\n",
    "        print(\"Odd number\")\n",
    "        \n",
    "n = 6\n",
    "odd_even(n)\n",
    "\n",
    "    "
   ]
  },
  {
   "cell_type": "code",
   "execution_count": null,
   "id": "4de88f59",
   "metadata": {},
   "outputs": [],
   "source": []
  },
  {
   "cell_type": "code",
   "execution_count": 20,
   "id": "d3980476",
   "metadata": {},
   "outputs": [
    {
     "name": "stdout",
     "output_type": "stream",
     "text": [
      "determine age of rabbit\n",
      "determine color of rabbit\n",
      "determine age of horse\n",
      "determine color of horse\n"
     ]
    }
   ],
   "source": [
    "# Polymorphism\n",
    "\n",
    "class Rabbit ():\n",
    "    \n",
    "    def age(self):\n",
    "        print(\"determine age of rabbit\")\n",
    "    def color(self):\n",
    "        print(\"determine color of rabbit\")\n",
    "\n",
    "class Horse ():\n",
    "    \n",
    "    def age(self):\n",
    "        print(\"determine age of horse\")\n",
    "    def color(self):\n",
    "        print(\"determine color of horse\")\n",
    "\n",
    "obj1 = Rabbit()\n",
    "obj2 = Horse()\n",
    "for type in (obj1, obj2):\n",
    "    type.age()\n",
    "    type.color()\n",
    "        "
   ]
  },
  {
   "cell_type": "code",
   "execution_count": null,
   "id": "979e533c",
   "metadata": {},
   "outputs": [],
   "source": []
  },
  {
   "cell_type": "code",
   "execution_count": 3,
   "id": "832655f9",
   "metadata": {},
   "outputs": [
    {
     "name": "stdout",
     "output_type": "stream",
     "text": [
      "12 15 17 0 1234 "
     ]
    }
   ],
   "source": [
    "#Program to print positive number of list\n",
    "\n",
    "list1 = [12,15,17,-16,0,-234,1234]\n",
    "\n",
    "for i in list1:\n",
    "    \n",
    "    if i >= 0:\n",
    "        print(i, end = \" \")"
   ]
  },
  {
   "cell_type": "code",
   "execution_count": null,
   "id": "4f131a5e",
   "metadata": {},
   "outputs": [],
   "source": []
  }
 ],
 "metadata": {
  "kernelspec": {
   "display_name": "Python 3 (ipykernel)",
   "language": "python",
   "name": "python3"
  },
  "language_info": {
   "codemirror_mode": {
    "name": "ipython",
    "version": 3
   },
   "file_extension": ".py",
   "mimetype": "text/x-python",
   "name": "python",
   "nbconvert_exporter": "python",
   "pygments_lexer": "ipython3",
   "version": "3.11.4"
  }
 },
 "nbformat": 4,
 "nbformat_minor": 5
}
